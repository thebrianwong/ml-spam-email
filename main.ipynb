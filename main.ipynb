{
 "cells": [
  {
   "attachments": {},
   "cell_type": "markdown",
   "metadata": {},
   "source": [
    "# Imports"
   ]
  },
  {
   "cell_type": "code",
   "execution_count": null,
   "metadata": {},
   "outputs": [],
   "source": [
    "import csv\n",
    "import matplotlib"
   ]
  },
  {
   "attachments": {},
   "cell_type": "markdown",
   "metadata": {},
   "source": [
    "# Begin by loading in data"
   ]
  },
  {
   "cell_type": "code",
   "execution_count": 72,
   "metadata": {},
   "outputs": [],
   "source": [
    "class EmailDataSet():\n",
    "    training_data = None\n",
    "    testing_data = None\n",
    "\n",
    "email_data_set = EmailDataSet()\n",
    "\n",
    "def load_data():\n",
    "    ham_email_data = [] \n",
    "    spam_email_data = []\n",
    "\n",
    "    with open(\"./emails.csv\") as csvfile:\n",
    "        reader = csv.reader(csvfile)\n",
    "        next(reader, None)\n",
    "        for row in reader:\n",
    "            spam_label = row[1]\n",
    "            if spam_label == \"1\":\n",
    "                row[1] = True\n",
    "                spam_email_data.append(row)\n",
    "            else:\n",
    "                row[1] = False\n",
    "                ham_email_data.append(row)\n",
    "            \n",
    "    # use 80% for training and 20% for testing\n",
    "    # evenly distribute ham and spam\n",
    "    ham_split = round(0.8 * len(ham_email_data))\n",
    "    spam_split = round(0.8 * len(spam_email_data))\n",
    "\n",
    "    email_data_set.training_data = ham_email_data[:ham_split] + spam_email_data[:spam_split]\n",
    "    email_data_set.testing_data = ham_email_data[ham_split:] + spam_email_data[spam_split:]\n",
    "\n",
    "load_data()"
   ]
  }
 ],
 "metadata": {
  "kernelspec": {
   "display_name": "Python 3 (ipykernel)",
   "language": "python",
   "name": "python3"
  },
  "language_info": {
   "codemirror_mode": {
    "name": "ipython",
    "version": 3
   },
   "file_extension": ".py",
   "mimetype": "text/x-python",
   "name": "python",
   "nbconvert_exporter": "python",
   "pygments_lexer": "ipython3",
   "version": "3.11.4"
  }
 },
 "nbformat": 4,
 "nbformat_minor": 4
}
