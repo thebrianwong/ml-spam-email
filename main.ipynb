{
 "cells": [
  {
   "attachments": {},
   "cell_type": "markdown",
   "metadata": {},
   "source": [
    "# Imports\n",
    "\n",
    "Import libraries to load CSV data, plot graphs, and create the machine learning model and algorithm."
   ]
  },
  {
   "cell_type": "code",
   "execution_count": 23,
   "metadata": {},
   "outputs": [],
   "source": [
    "import csv\n",
    "import numpy as np\n",
    "import matplotlib.pyplot as mpl\n",
    "import random\n",
    "import tensorflow as tf\n",
    "import ipywidgets as widgets"
   ]
  },
  {
   "attachments": {},
   "cell_type": "markdown",
   "metadata": {},
   "source": [
    "# Load data set\n",
    "\n",
    "The data set is a CSV file of emails and ham/spam labels downloaded from Kaggle."
   ]
  },
  {
   "cell_type": "code",
   "execution_count": 6,
   "metadata": {},
   "outputs": [],
   "source": [
    "class EmailDataSet():\n",
    "    raw_training_data = None\n",
    "    raw_testing_data = None\n",
    "    tensor_training_data = None\n",
    "    tensor_testing_data = None\n",
    "    training_emails = None\n",
    "    training_labels = None\n",
    "    testing_emails = None\n",
    "    testing_labels = None\n",
    "    \n",
    "\n",
    "email_data_set = EmailDataSet()\n",
    "\n",
    "def load_data():\n",
    "    ham_email_data = [] \n",
    "    spam_email_data = []\n",
    "\n",
    "    with open(\"./emails.csv\") as csvfile:\n",
    "        reader = csv.reader(csvfile)\n",
    "        next(reader, None)\n",
    "        for row in reader:\n",
    "            spam_label = row[1]\n",
    "            if spam_label == \"1\":\n",
    "                row[1] = True\n",
    "                spam_email_data.append(row)\n",
    "            else:\n",
    "                row[1] = False\n",
    "                ham_email_data.append(row)\n",
    "            \n",
    "    # use 80% for training and 20% for testing\n",
    "    # evenly distribute ham and spam\n",
    "    ham_split = round(0.8 * len(ham_email_data))\n",
    "    spam_split = round(0.8 * len(spam_email_data))\n",
    "\n",
    "    email_data_set.raw_training_data = ham_email_data[:ham_split] + spam_email_data[:spam_split]\n",
    "    email_data_set.raw_testing_data = ham_email_data[ham_split:] + spam_email_data[spam_split:]\n",
    "\n",
    "    # randomize so that ham isn't all in the start and spam isn't all in the end\n",
    "    random.shuffle(email_data_set.raw_training_data)\n",
    "    random.shuffle(email_data_set.raw_testing_data)\n",
    "\n",
    "load_data()"
   ]
  },
  {
   "attachments": {},
   "cell_type": "markdown",
   "metadata": {},
   "source": [
    "# Visualize split of hammy/spammy emails"
   ]
  },
  {
   "cell_type": "code",
   "execution_count": 14,
   "metadata": {},
   "outputs": [
    {
     "data": {
      "image/png": "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",
      "text/plain": [
       "<Figure size 640x480 with 1 Axes>"
      ]
     },
     "metadata": {},
     "output_type": "display_data"
    }
   ],
   "source": [
    "def display_ham_spam_bar_chart(data_object):\n",
    "    training_ham = 0\n",
    "    training_spam = 0\n",
    "    testing_ham = 0\n",
    "    testing_spam = 0\n",
    "    for entry in data_object.raw_training_data:\n",
    "        if entry[1]:\n",
    "            training_spam += 1\n",
    "        else:\n",
    "            training_ham += 1\n",
    "    for entry in data_object.raw_testing_data:\n",
    "        if entry[1]:\n",
    "            testing_spam += 1\n",
    "        else:\n",
    "            testing_ham += 1\n",
    "\n",
    "    X = [\"Training Set\", \"Testing Set\"]\n",
    "    Yham = [training_ham, testing_ham]\n",
    "    Zspam = [training_spam, testing_spam]\n",
    "\n",
    "    X_axis = np.arange(len(X))\n",
    "    Y_axis = np.arange(4500)\n",
    "\n",
    "    mpl.bar(X_axis - 0.1, Yham, 0.2)\n",
    "    mpl.bar(X_axis + 0.1, Zspam, 0.2)\n",
    "\n",
    "    mpl.xticks(X_axis, X)\n",
    "    mpl.yticks(np.arange(Y_axis.min(), Y_axis.max(), 500), [0, 500, 1000, 1500, 2000, 2500, 3000, 3500, 4000])\n",
    "    mpl.xlabel(\"Email Data Set\")\n",
    "    mpl.ylabel(\"Number of Emails\")\n",
    "    mpl.title(\"Distribution of Ham and Spam Emails\")\n",
    "    mpl.legend([\"Ham\", \"Spam\"])\n",
    "    mpl.show()\n",
    "\n",
    "display_ham_spam_bar_chart(email_data_set)"
   ]
  },
  {
   "attachments": {},
   "cell_type": "markdown",
   "metadata": {},
   "source": [
    "# Pre-process Email Data"
   ]
  },
  {
   "cell_type": "code",
   "execution_count": 15,
   "metadata": {},
   "outputs": [],
   "source": [
    "def pre_process_data(data_object: EmailDataSet):\n",
    "    # Extract data from the email and label columns for the split of training/testing data\n",
    "    data_object.training_emails = [data[0] for data in data_object.raw_training_data]\n",
    "    data_object.training_labels = [data[1] for data in data_object.raw_training_data]\n",
    "    data_object.testing_emails = [data[0] for data in data_object.raw_testing_data]\n",
    "    data_object.testing_labels = [data[1] for data in data_object.raw_testing_data]\n",
    "\n",
    "    # Convert to tensors\n",
    "    training_text_tensor = tf.constant(data_object.training_emails)\n",
    "    training_label_tensor = tf.constant(data_object.training_labels)\n",
    "    testing_text_tensor = tf.constant(data_object.testing_emails)\n",
    "    testing_label_tensor = tf.constant(data_object.testing_labels)\n",
    "\n",
    "    # Reshape tensors\n",
    "    training_text_tensor = tf.reshape(training_text_tensor, (training_text_tensor.shape[0],1))\n",
    "    training_label_tensor = tf.reshape(training_label_tensor, (training_label_tensor.shape[0],1))\n",
    "    testing_text_tensor = tf.reshape(testing_text_tensor, (testing_text_tensor.shape[0],1))\n",
    "    testing_label_tensor = tf.reshape(testing_label_tensor, (testing_label_tensor.shape[0],1))\n",
    "\n",
    "    # Create and batch data sets\n",
    "    formatted_training_data = tf.data.Dataset.from_tensor_slices((training_text_tensor, training_label_tensor))\n",
    "    formatted_testing_data = tf.data.Dataset.from_tensor_slices((testing_text_tensor, testing_label_tensor))\n",
    "    formatted_training_data = formatted_training_data.batch(64)\n",
    "    formatted_testing_data = formatted_testing_data.batch(64)\n",
    "\n",
    "    data_object.tensor_training_data = formatted_training_data\n",
    "    data_object.tensor_testing_data = formatted_testing_data\n",
    "    \n",
    "pre_process_data(email_data_set)"
   ]
  },
  {
   "attachments": {},
   "cell_type": "markdown",
   "metadata": {},
   "source": [
    "# Encode text into integer tokens for NLP"
   ]
  },
  {
   "cell_type": "code",
   "execution_count": 16,
   "metadata": {},
   "outputs": [],
   "source": [
    "def tokenize(data_object: EmailDataSet):\n",
    "    # Create NLP vocabulary based on training emails\n",
    "    encoder = tf.keras.layers.experimental.preprocessing.TextVectorization(max_tokens=20000)\n",
    "    vocab_data = data_object.training_emails\n",
    "    encoder.adapt(vocab_data)\n",
    "\n",
    "    return encoder\n",
    "\n",
    "class Encoder():\n",
    "    encoder = None\n",
    "\n",
    "encoder_obj = Encoder()\n",
    "\n",
    "encoder_obj.encoder = tokenize(email_data_set)"
   ]
  },
  {
   "attachments": {},
   "cell_type": "markdown",
   "metadata": {},
   "source": [
    "# Create Bi-directional Long Short Term Memory (Bi-LSTM) Algorithm Model"
   ]
  },
  {
   "cell_type": "code",
   "execution_count": 17,
   "metadata": {},
   "outputs": [
    {
     "name": "stdout",
     "output_type": "stream",
     "text": [
      "Model: \"sequential\"\n",
      "_________________________________________________________________\n",
      " Layer (type)                Output Shape              Param #   \n",
      "=================================================================\n",
      " text_vectorization (TextVe  (None, None)              0         \n",
      " ctorization)                                                    \n",
      "                                                                 \n",
      " embedding (Embedding)       (None, None, 64)          1280000   \n",
      "                                                                 \n",
      " bidirectional (Bidirection  (None, None, 128)         66048     \n",
      " al)                                                             \n",
      "                                                                 \n",
      " bidirectional_1 (Bidirecti  (None, 64)                41216     \n",
      " onal)                                                           \n",
      "                                                                 \n",
      " dense (Dense)               (None, 64)                4160      \n",
      "                                                                 \n",
      " dense_1 (Dense)             (None, 1)                 65        \n",
      "                                                                 \n",
      "=================================================================\n",
      "Total params: 1391489 (5.31 MB)\n",
      "Trainable params: 1391489 (5.31 MB)\n",
      "Non-trainable params: 0 (0.00 Byte)\n",
      "_________________________________________________________________\n"
     ]
    },
    {
     "name": "stderr",
     "output_type": "stream",
     "text": [
      "WARNING:absl:At this time, the v2.11+ optimizer `tf.keras.optimizers.Nadam` runs slowly on M1/M2 Macs, please use the legacy Keras optimizer instead, located at `tf.keras.optimizers.legacy.Nadam`.\n"
     ]
    }
   ],
   "source": [
    "def create_model(encoder):\n",
    "    model = tf.keras.Sequential([\n",
    "        encoder,\n",
    "        tf.keras.layers.Embedding(\n",
    "          len(encoder.get_vocabulary()),\n",
    "          64,\n",
    "          mask_zero = True\n",
    "        ),\n",
    "        tf.keras.layers.Bidirectional(\n",
    "          tf.keras.layers.LSTM(\n",
    "            64,\n",
    "            return_sequences=True\n",
    "          )\n",
    "        ),\n",
    "        tf.keras.layers.Bidirectional(\n",
    "          tf.keras.layers.LSTM(\n",
    "            32,\n",
    "          )\n",
    "        ),\n",
    "        tf.keras.layers.Dense(64, activation=\"sigmoid\"),\n",
    "        tf.keras.layers.Dense(1)\n",
    "    ])\n",
    "\n",
    "    model.summary()\n",
    "\n",
    "    model.compile(\n",
    "        optimizer=tf.keras.optimizers.Nadam(),\n",
    "        loss=tf.keras.losses.BinaryCrossentropy(\n",
    "          from_logits=True\n",
    "        ),\n",
    "        metrics=[\"accuracy\"],\n",
    "        run_eagerly=True\n",
    "    )\n",
    "\n",
    "    return model\n",
    "\n",
    "class Model():\n",
    "    model = None\n",
    "\n",
    "model_object = Model()\n",
    "\n",
    "model_object.model = create_model(encoder_obj.encoder)"
   ]
  },
    "\n",
    "    original_text = \"\"\"Hello. Are you interested in becoming rich? Do you want to become the next Elon Musk. Reply to this email,\n",
    "                    and I will give you free money! Yes, that's right! Free money! This is not a scam! Include your SSN,\n",
    "                    and I will throw in a free Ferrari!\"\"\"\n",
    "    encoded_text = encoder(original_text).numpy() \n",
    "    decoded_text = \" \".join(vocab[encoded_text]) \n",
    "    \n",
    "    print(\"Original: \", original_text) \n",
    "    print(\"Encoded: \", encoded_text) \n",
    "    print(\"Decoded: \", decoded_text)\n",
    "\n",
    "tokenize()"
   ]
  }
 ],
 "metadata": {
  "kernelspec": {
   "display_name": "Python 3 (ipykernel)",
   "language": "python",
   "name": "python3"
  },
  "language_info": {
   "codemirror_mode": {
    "name": "ipython",
    "version": 3
   },
   "file_extension": ".py",
   "mimetype": "text/x-python",
   "name": "python",
   "nbconvert_exporter": "python",
   "pygments_lexer": "ipython3",
   "version": "3.11.4"
  }
 },
 "nbformat": 4,
 "nbformat_minor": 4
}
